{
 "cells": [
  {
   "metadata": {},
   "cell_type": "markdown",
   "source": "# I. Numpy",
   "id": "7244dbe955046a70"
  },
  {
   "metadata": {},
   "cell_type": "markdown",
   "source": "### Импортируйте NumPy",
   "id": "2a05f691561e7f3d"
  },
  {
   "metadata": {},
   "cell_type": "code",
   "source": "import numpy as np",
   "id": "b3757c983c33bd2d",
   "outputs": [],
   "execution_count": null
  },
  {
   "metadata": {},
   "cell_type": "markdown",
   "source": "### Создайте одномерный массив размера 10, заполненный нулями и пятым элемент равным 1. Трансформируйте в двумерный массив.",
   "id": "8a318f9461ad19c5"
  },
  {
   "metadata": {},
   "cell_type": "code",
   "source": [
    "arr = np.zeros(10)\n",
    "arr[4] = 1\n",
    "arr_2d = arr.reshape(2, 5)\n",
    "print(arr_2d)\n"
   ],
   "id": "6b385926141b446a",
   "outputs": [],
   "execution_count": null
  },
  {
   "metadata": {},
   "cell_type": "markdown",
   "source": "### Создайте одномерный массив со значениями от 10 до 49 и разверните его (первый элемент становится последним). Найдите в нем все четные элементы.",
   "id": "4cb872372957888a"
  },
  {
   "metadata": {},
   "cell_type": "code",
   "source": [
    "arr = np.arange(10, 50)\n",
    "arr = arr[::-1]\n",
    "even_elements = arr[arr % 2 == 0]\n",
    "\n",
    "print(arr)\n",
    "print(even_elements)"
   ],
   "id": "eff21745548c3195",
   "outputs": [],
   "execution_count": null
  },
  {
   "metadata": {},
   "cell_type": "markdown",
   "source": "### Создайте двумерный массив 3x3 со значениями от 0 до 8",
   "id": "21fd6216cbb9a6a0"
  },
  {
   "metadata": {},
   "cell_type": "code",
   "source": [
    "arr = np.arange(9).reshape(3, 3)\n",
    "\n",
    "print(arr)"
   ],
   "id": "a2adbda4ddc06628",
   "outputs": [],
   "execution_count": null
  },
  {
   "metadata": {},
   "cell_type": "markdown",
   "source": "### Создайте массив 4x3x2 со случайными значениями. Найти его минимум и максимум.",
   "id": "3d6be4b62d75b304"
  },
  {
   "metadata": {},
   "cell_type": "code",
   "source": [
    "arr = np.random.rand(4, 3, 2)\n",
    "min_val = arr.min()\n",
    "max_val = arr.max()\n",
    "\n",
    "print(\"Минимум: \", min_val)\n",
    "print(\"Максимум: \", max_val)"
   ],
   "id": "e1adf2f9c11e65c4",
   "outputs": [],
   "execution_count": null
  },
  {
   "metadata": {},
   "cell_type": "markdown",
   "source": "### Создайте два двумерных массива размерами 6x4 и 4x3 и произведите их матричное умножение. ",
   "id": "495f2f115a46c0ed"
  },
  {
   "metadata": {},
   "cell_type": "code",
   "source": [
    "arr1 = np.random.rand(6, 4)\n",
    "arr2 = np.random.rand(4, 3)\n",
    "\n",
    "result = np.dot(arr1, arr2)\n",
    "\n",
    "print(result)"
   ],
   "id": "a3184a97b67debdb",
   "outputs": [],
   "execution_count": null
  },
  {
   "metadata": {},
   "cell_type": "markdown",
   "source": "### Создайте случайный двумерный массив 7x7, найти у него среднее и стандартное оклонение. Нормализуйте этот массив.",
   "id": "51c80e4944c6de8d"
  },
  {
   "metadata": {},
   "cell_type": "code",
   "source": [
    "arr = np.random.rand(7, 7)\n",
    "mean = arr.mean()\n",
    "std = arr.std()\n",
    "\n",
    "normalized_arr = (arr - mean) / std\n",
    "\n",
    "print(\"Среднее: \", mean)\n",
    "print(\"Стандартное отклонение: \", std)\n",
    "print(\"Нормализованный массив: \\n\", normalized_arr)"
   ],
   "id": "5940b654ee0f1c96",
   "outputs": [],
   "execution_count": null
  },
  {
   "metadata": {},
   "cell_type": "markdown",
   "source": "# II. Pandas",
   "id": "a630e8ae82540f39"
  },
  {
   "metadata": {},
   "cell_type": "markdown",
   "source": "### Импортируйте: pandas, matplotlib, seaborn",
   "id": "1373ed94c152773b"
  },
  {
   "metadata": {},
   "cell_type": "code",
   "source": [
    "import matplotlib.pyplot as plt\n",
    "import seaborn as sns"
   ],
   "id": "d5d1ac727aa0a4a6",
   "outputs": [],
   "execution_count": null
  },
  {
   "metadata": {},
   "cell_type": "markdown",
   "source": "### Загрузите датасет Tips из набора датасетов seaborn",
   "id": "167f4104a8b5bccd"
  },
  {
   "metadata": {},
   "cell_type": "code",
   "source": "tips = sns.load_dataset('tips')",
   "id": "ac2b5db97c41aec1",
   "outputs": [],
   "execution_count": null
  },
  {
   "metadata": {},
   "cell_type": "markdown",
   "source": "### Посмотрите на первые 5 строчек",
   "id": "afa258f2945e22b9"
  },
  {
   "metadata": {},
   "cell_type": "code",
   "source": "print(tips.head())",
   "id": "a48d4399b646d625",
   "outputs": [],
   "execution_count": null
  },
  {
   "metadata": {},
   "cell_type": "markdown",
   "source": "### Узнайте сколько всего строчек и колонок в данных",
   "id": "914ac756f8fe75c1"
  },
  {
   "metadata": {},
   "cell_type": "code",
   "source": [
    "num_rows, num_cols = tips.shape\n",
    "\n",
    "print(\"Количество строк: \", num_rows)\n",
    "print(\"Количество столбцов: \", num_cols)"
   ],
   "id": "94e0af353b75a972",
   "outputs": [],
   "execution_count": null
  },
  {
   "metadata": {},
   "cell_type": "markdown",
   "source": "### Проверьте есть ли пропуски в данных",
   "id": "1fedfe3cb280e219"
  },
  {
   "metadata": {},
   "cell_type": "code",
   "source": [
    "null_counts = tips.isnull().sum()\n",
    "\n",
    "print(\"Количество пропусков в каждом столбце: \\n\", null_counts)"
   ],
   "id": "6ff12b73c436b217",
   "outputs": [],
   "execution_count": null
  },
  {
   "metadata": {},
   "cell_type": "markdown",
   "source": "### Посмотрите на распределение числовых признаков",
   "id": "61df4816208d0ad6"
  },
  {
   "metadata": {},
   "cell_type": "code",
   "source": [
    "description = tips.describe()\n",
    "print(description)"
   ],
   "id": "55f2d9e30118649b",
   "outputs": [],
   "execution_count": null
  },
  {
   "metadata": {},
   "cell_type": "markdown",
   "source": "### Найдите максимальное значение 'total_bill'",
   "id": "1b1c6a0f47fad2a3"
  },
  {
   "metadata": {},
   "cell_type": "code",
   "source": [
    "max_total_bill = tips['total_bill'].max()\n",
    "\n",
    "print(\"Максимальное значение 'total_bill': \", max_total_bill)"
   ],
   "id": "185660b040614dd7",
   "outputs": [],
   "execution_count": null
  },
  {
   "metadata": {},
   "cell_type": "markdown",
   "source": "### Найдите количество курящих людей",
   "id": "12ecdac633981692"
  },
  {
   "metadata": {},
   "cell_type": "code",
   "source": [
    "num_smokers = tips['smoker'].value_counts()['Yes']\n",
    "\n",
    "print(\"Количество курящих людей: \", num_smokers)"
   ],
   "id": "8d361690f59f8362",
   "outputs": [],
   "execution_count": null
  },
  {
   "metadata": {},
   "cell_type": "markdown",
   "source": "### Узнайте какой средний 'total_bill' в зависимости от 'day'",
   "id": "529b3661456131cc"
  },
  {
   "metadata": {},
   "cell_type": "code",
   "source": [
    "mean_total_bill_by_day = tips.groupby('day')['total_bill'].mean()\n",
    "\n",
    "print(\"Среднее значение 'total_bill' в зависимости от 'day': \\n\", mean_total_bill_by_day)"
   ],
   "id": "9dce8de58923dc44",
   "outputs": [],
   "execution_count": null
  },
  {
   "metadata": {},
   "cell_type": "markdown",
   "source": "### Отберите строчки с 'total_bill' больше медианы и узнайте какой средний 'tip' в зависимости от 'sex'",
   "id": "67577906daeb472b"
  },
  {
   "metadata": {},
   "cell_type": "code",
   "source": [
    "median_total_bill = tips['total_bill'].median()\n",
    "filtered_tips = tips.loc[tips['total_bill'] > median_total_bill]\n",
    "mean_tip_by_sex = filtered_tips.groupby('sex')['tip'].mean()\n",
    "\n",
    "print(\"Средний 'tip' в зависимости от 'sex': \\n\", mean_tip_by_sex)"
   ],
   "id": "b3749c326baaf0a5",
   "outputs": [],
   "execution_count": null
  },
  {
   "metadata": {},
   "cell_type": "markdown",
   "source": "### Преобразуйте признак 'smoker' в бинарный (0-No, 1-Yes)",
   "id": "549cad48b2e1f28e"
  },
  {
   "metadata": {},
   "cell_type": "code",
   "source": [
    "tips['smoker'] = tips['smoker'].map({'No': 0, 'Yes': 1})\n",
    "\n",
    "print(tips)"
   ],
   "id": "1741b6bef9b086e5",
   "outputs": [],
   "execution_count": null
  },
  {
   "metadata": {},
   "cell_type": "markdown",
   "source": "# III. Visualization",
   "id": "95f71e90b0ed319f"
  },
  {
   "metadata": {},
   "cell_type": "markdown",
   "source": "### Постройте гистограмму распределения признака 'total_bill'",
   "id": "85c0897d5cffc425"
  },
  {
   "metadata": {},
   "cell_type": "code",
   "source": "sns.histplot(tips['total_bill'], bins=10, alpha=0.7)\n",
   "id": "134c93620d7c3154",
   "outputs": [],
   "execution_count": null
  },
  {
   "metadata": {},
   "cell_type": "markdown",
   "source": "### Постройте scatterplot, представляющий взаимосвязь между признаками 'total_bill' и 'tip'",
   "id": "48c35abb38b594e2"
  },
  {
   "metadata": {},
   "cell_type": "code",
   "source": "sns.scatterplot(data=tips, x='total_bill', y='tip', alpha=0.7)\n",
   "id": "90b583c8158fd48d",
   "outputs": [],
   "execution_count": null
  },
  {
   "metadata": {},
   "cell_type": "markdown",
   "source": "### Постройте pairplot",
   "id": "d36b0090ba0927b7"
  },
  {
   "metadata": {},
   "cell_type": "code",
   "source": "sns.pairplot(tips)",
   "id": "25ec6820f751fdc2",
   "outputs": [],
   "execution_count": null
  },
  {
   "metadata": {},
   "cell_type": "markdown",
   "source": "### Постройте график взаимосвязи между признаками 'total_bill' и 'day'",
   "id": "1d9b05e3863c160b"
  },
  {
   "metadata": {},
   "cell_type": "code",
   "source": "sns.scatterplot(data=tips, x='total_bill', y='day', hue='day', palette='Set1', alpha=0.7)",
   "id": "a4161a87b07a1cce",
   "outputs": [],
   "execution_count": null
  },
  {
   "metadata": {},
   "cell_type": "markdown",
   "source": "### Постройте две гистограммы распределения признака 'tip' в зависимости от категорий 'time'",
   "id": "e65f0174f972ed0d"
  },
  {
   "metadata": {},
   "cell_type": "code",
   "source": [
    "g = sns.FacetGrid(tips, col='time', height=6)\n",
    "g.map(sns.histplot, 'tip', bins=5, alpha=0.7)\n"
   ],
   "id": "f1a840482f0b209c",
   "outputs": [],
   "execution_count": null
  },
  {
   "metadata": {},
   "cell_type": "markdown",
   "source": "### Постройте два графика scatterplot, представляющих взаимосвязь между признаками 'total_bill' и 'tip' один для Male, другой для Female и раскрасьте точки в зависимоти от признака 'smoker'",
   "id": "16a9966ce3cf0198"
  },
  {
   "metadata": {},
   "cell_type": "code",
   "source": [
    "g = sns.FacetGrid(tips, col='sex', hue='smoker', height=6, aspect=0.8)\n",
    "\n",
    "g.map(sns.scatterplot, 'total_bill', 'tip', alpha=0.7)\n",
    "g.add_legend(title='Smoker')\n"
   ],
   "id": "1f884bbc12d27821",
   "outputs": [],
   "execution_count": null
  },
  {
   "metadata": {},
   "cell_type": "markdown",
   "source": "## Сделайте выводы по анализу датасета и построенным графикам. По желанию можете продолжить анализ данных и также отразить это в выводах.",
   "id": "8c8edee62f7f7777"
  },
  {
   "metadata": {},
   "cell_type": "markdown",
   "source": [
    "### Выводы по анализу датасета и построенным графикам\n",
    "\n",
    "**Сумма счета (`total_bill`)**:\n",
    "   - На основе анализа данных можно сделать вывод, что сумма счета чаще всего находится в диапазоне от 10 до 20. Это может указывать на то, что большинство клиентов выбирают блюда средней ценовой категории, что является важной информацией для ресторанов при формировании меню и ценовой политики.\n",
    "\n",
    "**Взаимосвязь между `total_bill` и `tip`**:\n",
    "   - Наблюдается положительная корреляция между суммой счета (`total_bill`) и чаевыми (`tip`). С увеличением суммы счета чаевые, как правило, также увеличиваются. Это подтверждает общую практику, что клиенты оставляют более высокие чаевые на более дорогие заказы, что может быть полезно для оценки ожидаемых чаевых в зависимости от ценового сегмента.\n",
    "\n",
    "\n",
    "**Влияние размера группы (`size`) на сумму счета**:\n",
    "   - Анализ показывает, что чем больше размер группы, тем больше сумма счета (`total_bill`). Это логично, так как большие группы, как правило, заказывают больше блюд и напитков, что приводит к увеличению общего счета. Ресторанам стоит учитывать этот фактор при планировании размещения и обслуживания больших групп.\n",
    "\n",
    "**Распределение чаевых (`tip`) для Lunch и Dinner**:\n",
    "   - На гистограммах видно, что в период ужина (Dinner) чаевые, как правило, оставляются в большем объеме по сравнению с обедом (Lunch). Это может указывать на то, что клиенты, посещающие ресторан на ужин, более склонны оставлять высокие чаевые.\n",
    "   - Возможно, это связано с тем, что ужин часто является более формальным мероприятием, и клиенты могут заказывать более дорогие блюда и напитки, что, в свою очередь, приводит к более высоким чаевым.\n",
    "\n",
    "\n",
    "**Динамика счетов по дням недели**:\n",
    "   - В пятницу наблюдается наименьшее количество счетов. Это может указывать на то, что в этот день ресторан менее загружен по сравнению с другими днями недели. Ресторанам стоит рассмотреть возможность проведения акций или специальных предложений в пятницу, чтобы привлечь больше клиентов и увеличить выручку.\n",
    "\n",
    "### Заключение\n",
    "Анализ данных позволяет выявить ключевые тенденции в поведении клиентов, такие как предпочтения по сумме счета, влияние размера группы на общую стоимость заказа и динамику посещаемости в разные дни недели. Эти выводы могут помочь ресторанам оптимизировать свои предложения и улучшить качество обслуживания, а также разработать стратегии для увеличения выручки в менее загруженные дни.\n"
   ],
   "id": "44ded3b2088544c4"
  }
 ],
 "metadata": {},
 "nbformat": 4,
 "nbformat_minor": 5
}
